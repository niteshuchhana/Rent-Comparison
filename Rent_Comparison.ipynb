{
 "cells": [
  {
   "cell_type": "markdown",
   "id": "6d19e5e3",
   "metadata": {},
   "source": [
    "# Table of Content"
   ]
  },
  {
   "cell_type": "markdown",
   "id": "4317a8c9",
   "metadata": {},
   "source": [
    "#### 1.Introduction\n",
    "#### 2.Technologies Used\n",
    "#### 3. Importing Libraries\n",
    "#### 4. Data Cleaning \n",
    "#### 5. Handling Missing Values\n",
    "#### 6. Data Analysis\n",
    "#### 7. Data Visualization\n",
    "#### 8. Key insights"
   ]
  },
  {
   "cell_type": "markdown",
   "id": "38df88dd",
   "metadata": {},
   "source": [
    "## Introduction"
   ]
  },
  {
   "cell_type": "markdown",
   "id": "40f4053f",
   "metadata": {},
   "source": [
    "Housing affordability is a pressing issue in many regions, and the gap between market rents and Local Housing Allowance (LHA) rents can significantly impact individuals and families seeking affordable housing. This analysis aims to investigate the disparity between average market rents and LHA rents for various bed types in a specific area, providing valuable insights into the affordability challenges faced by residents.\n",
    "      Additionally, it will explore how the affordability gap varies across different bed types, offering a deeper understanding of the specific challenges faced by households with different housing needs.. By examining this gap, we can gain valuable insights into the challenges faced by low-income households in accessing affordable housing and inform potential policy interventions to address this issue."
   ]
  },
  {
   "cell_type": "markdown",
   "id": "be73a366",
   "metadata": {},
   "source": [
    "## Technologies Used"
   ]
  },
  {
   "cell_type": "markdown",
   "id": "6cc899e8",
   "metadata": {},
   "source": [
    "#### This data analysis project leverages the following technologies:\n",
    "\n",
    "1. Python: As a versatile and powerful programming language, Python is the primary tool used for data manipulation, analysis, and visualization.\n",
    "\n",
    "2. Pandas: This popular Python library provides efficient data structures and data analysis tools, making it ideal for handling and cleaning large datasets.\n",
    "\n",
    "3. NumPy: NumPy is another essential Python library for numerical computations and array operations, which are crucial for statistical analysis.\n",
    "\n",
    "4. Matplotlib: This library is used to create a wide range of static, animated, and interactive visualizations, such as line plots, scatter plots, histograms, and bar charts.\n",
    "\n",
    "5. Seaborn: Built on top of Matplotlib, Seaborn offers a high-level interface for creating attractive and informative statistical visualizations.\n",
    "\n",
    "6. Jupyter Notebook: This interactive computing environment provides a flexible platform for combining code, text, and visualizations, making it an excellent tool for data exploration and analysis."
   ]
  },
  {
   "cell_type": "markdown",
   "id": "e436a35f",
   "metadata": {},
   "source": [
    "## General Assumptions"
   ]
  },
  {
   "cell_type": "markdown",
   "id": "dc02de33",
   "metadata": {},
   "source": [
    "1. I have assumed that the data anlaysis only performed on \"North West London BRMA\" area as there is only one data having  \"South West Herts BRMA\" as brma_text.\n",
    "2. I have compared average market rents of \"North West London BRMA\" and Local Housing Allowance (LHA) rent of \"North West London BRMA\"\n",
    "\n"
   ]
  },
  {
   "cell_type": "markdown",
   "id": "bf35e495",
   "metadata": {},
   "source": [
    "### Importig Required Libraries"
   ]
  },
  {
   "cell_type": "code",
   "execution_count": 100,
   "id": "4ac45338",
   "metadata": {},
   "outputs": [],
   "source": [
    "import pandas as pd\n",
    "import numpy as np\n",
    "import seaborn as sns\n",
    "import matplotlib.pyplot as plt\n",
    "import warnings"
   ]
  },
  {
   "cell_type": "markdown",
   "id": "b0444cba",
   "metadata": {},
   "source": [
    "### Reading the data from csv file"
   ]
  },
  {
   "cell_type": "code",
   "execution_count": 101,
   "id": "74e39278",
   "metadata": {},
   "outputs": [],
   "source": [
    "rent_data = pd.read_csv(r\"rent_comparison_dataset.csv\")\n",
    "lha_data = pd.read_csv(r\"2024-25_LHA.csv\")"
   ]
  },
  {
   "cell_type": "markdown",
   "id": "a9f5ac00",
   "metadata": {},
   "source": [
    "# Data Cleaning"
   ]
  },
  {
   "cell_type": "code",
   "execution_count": 102,
   "id": "7335a167",
   "metadata": {},
   "outputs": [
    {
     "name": "stdout",
     "output_type": "stream",
     "text": [
      "<class 'pandas.core.frame.DataFrame'>\n",
      "RangeIndex: 1505 entries, 0 to 1504\n",
      "Data columns (total 7 columns):\n",
      " #   Column            Non-Null Count  Dtype  \n",
      "---  ------            --------------  -----  \n",
      " 0   id                1505 non-null   int64  \n",
      " 1   post_code         1505 non-null   object \n",
      " 2   type              1505 non-null   object \n",
      " 3   transaction_type  1500 non-null   object \n",
      " 4   bedrooms          1505 non-null   int64  \n",
      " 5   brma_text         1494 non-null   object \n",
      " 6   price             1501 non-null   float64\n",
      "dtypes: float64(1), int64(2), object(4)\n",
      "memory usage: 82.4+ KB\n"
     ]
    }
   ],
   "source": [
    "rent_data.info() "
   ]
  },
  {
   "cell_type": "code",
   "execution_count": 103,
   "id": "c4cd7c18",
   "metadata": {
    "scrolled": true
   },
   "outputs": [
    {
     "data": {
      "text/plain": [
       "North West London BRMA    1493\n",
       "South West Herts BRMA        1\n",
       "Name: brma_text, dtype: int64"
      ]
     },
     "execution_count": 103,
     "metadata": {},
     "output_type": "execute_result"
    }
   ],
   "source": [
    "rent_data['brma_text'].value_counts() #finding the unique values and their frequencies in \"brma_text\""
   ]
  },
  {
   "cell_type": "markdown",
   "id": "45c5eb9a",
   "metadata": {},
   "source": [
    "We can see that there is only one entry having \"South West Herts BRMA\" as brma_text and all the other values are \"North West London BRMA\""
   ]
  },
  {
   "cell_type": "code",
   "execution_count": 104,
   "id": "e590de41",
   "metadata": {
    "scrolled": false
   },
   "outputs": [
    {
     "data": {
      "text/html": [
       "<div>\n",
       "<style scoped>\n",
       "    .dataframe tbody tr th:only-of-type {\n",
       "        vertical-align: middle;\n",
       "    }\n",
       "\n",
       "    .dataframe tbody tr th {\n",
       "        vertical-align: top;\n",
       "    }\n",
       "\n",
       "    .dataframe thead th {\n",
       "        text-align: right;\n",
       "    }\n",
       "</style>\n",
       "<table border=\"1\" class=\"dataframe\">\n",
       "  <thead>\n",
       "    <tr style=\"text-align: right;\">\n",
       "      <th></th>\n",
       "      <th>id</th>\n",
       "      <th>post_code</th>\n",
       "      <th>type</th>\n",
       "      <th>transaction_type</th>\n",
       "      <th>bedrooms</th>\n",
       "      <th>brma_text</th>\n",
       "      <th>price</th>\n",
       "    </tr>\n",
       "  </thead>\n",
       "  <tbody>\n",
       "    <tr>\n",
       "      <th>1328</th>\n",
       "      <td>6281991</td>\n",
       "      <td>HA5 4AL</td>\n",
       "      <td>Detached</td>\n",
       "      <td>buy</td>\n",
       "      <td>3</td>\n",
       "      <td>South West Herts BRMA</td>\n",
       "      <td>1850000.0</td>\n",
       "    </tr>\n",
       "  </tbody>\n",
       "</table>\n",
       "</div>"
      ],
      "text/plain": [
       "           id post_code      type transaction_type  bedrooms  \\\n",
       "1328  6281991   HA5 4AL  Detached              buy         3   \n",
       "\n",
       "                  brma_text      price  \n",
       "1328  South West Herts BRMA  1850000.0  "
      ]
     },
     "execution_count": 104,
     "metadata": {},
     "output_type": "execute_result"
    }
   ],
   "source": [
    "rent_data[rent_data['brma_text'] == 'South West Herts BRMA'] "
   ]
  },
  {
   "cell_type": "markdown",
   "id": "375abe93",
   "metadata": {},
   "source": [
    "#### Checking minimum values of 'buy' and 'rent'"
   ]
  },
  {
   "cell_type": "code",
   "execution_count": 105,
   "id": "a416963a",
   "metadata": {},
   "outputs": [
    {
     "data": {
      "text/plain": [
       "transaction_type\n",
       "buy       0.0\n",
       "rent    100.0\n",
       "Name: price, dtype: float64"
      ]
     },
     "execution_count": 105,
     "metadata": {},
     "output_type": "execute_result"
    }
   ],
   "source": [
    "rent_data.groupby('transaction_type')['price'].min() "
   ]
  },
  {
   "cell_type": "markdown",
   "id": "15fe48cd",
   "metadata": {},
   "source": [
    "#'price' can not be 0.0 in 'buy' transaction type so it is an outlier\n",
    "#### Filtering Rent Data"
   ]
  },
  {
   "cell_type": "code",
   "execution_count": 106,
   "id": "f9fcb3ed",
   "metadata": {},
   "outputs": [],
   "source": [
    "rent_df = rent_data[(rent_data['transaction_type'] == 'rent')] "
   ]
  },
  {
   "cell_type": "code",
   "execution_count": 107,
   "id": "7f4267f9",
   "metadata": {
    "scrolled": false
   },
   "outputs": [
    {
     "data": {
      "text/html": [
       "<div>\n",
       "<style scoped>\n",
       "    .dataframe tbody tr th:only-of-type {\n",
       "        vertical-align: middle;\n",
       "    }\n",
       "\n",
       "    .dataframe tbody tr th {\n",
       "        vertical-align: top;\n",
       "    }\n",
       "\n",
       "    .dataframe thead th {\n",
       "        text-align: right;\n",
       "    }\n",
       "</style>\n",
       "<table border=\"1\" class=\"dataframe\">\n",
       "  <thead>\n",
       "    <tr style=\"text-align: right;\">\n",
       "      <th></th>\n",
       "      <th>id</th>\n",
       "      <th>post_code</th>\n",
       "      <th>type</th>\n",
       "      <th>transaction_type</th>\n",
       "      <th>bedrooms</th>\n",
       "      <th>brma_text</th>\n",
       "      <th>price</th>\n",
       "    </tr>\n",
       "  </thead>\n",
       "  <tbody>\n",
       "    <tr>\n",
       "      <th>973</th>\n",
       "      <td>7113370</td>\n",
       "      <td>HA3 6AX</td>\n",
       "      <td>Apartment</td>\n",
       "      <td>NaN</td>\n",
       "      <td>2</td>\n",
       "      <td>North West London BRMA</td>\n",
       "      <td>1650.0</td>\n",
       "    </tr>\n",
       "    <tr>\n",
       "      <th>1050</th>\n",
       "      <td>7117754</td>\n",
       "      <td>HA1 1SA</td>\n",
       "      <td>Flat</td>\n",
       "      <td>NaN</td>\n",
       "      <td>2</td>\n",
       "      <td>North West London BRMA</td>\n",
       "      <td>475000.0</td>\n",
       "    </tr>\n",
       "    <tr>\n",
       "      <th>1187</th>\n",
       "      <td>6854613</td>\n",
       "      <td>HA7 3BT</td>\n",
       "      <td>End of Terrace</td>\n",
       "      <td>NaN</td>\n",
       "      <td>3</td>\n",
       "      <td>North West London BRMA</td>\n",
       "      <td>2550.0</td>\n",
       "    </tr>\n",
       "    <tr>\n",
       "      <th>1297</th>\n",
       "      <td>4849811</td>\n",
       "      <td>HA7 3NE</td>\n",
       "      <td>Maisonette</td>\n",
       "      <td>NaN</td>\n",
       "      <td>1</td>\n",
       "      <td>North West London BRMA</td>\n",
       "      <td>295000.0</td>\n",
       "    </tr>\n",
       "    <tr>\n",
       "      <th>1502</th>\n",
       "      <td>4810072</td>\n",
       "      <td>HA2 6DH</td>\n",
       "      <td>Flat</td>\n",
       "      <td>NaN</td>\n",
       "      <td>2</td>\n",
       "      <td>North West London BRMA</td>\n",
       "      <td>425000.0</td>\n",
       "    </tr>\n",
       "  </tbody>\n",
       "</table>\n",
       "</div>"
      ],
      "text/plain": [
       "           id post_code            type transaction_type  bedrooms  \\\n",
       "973   7113370   HA3 6AX       Apartment              NaN         2   \n",
       "1050  7117754   HA1 1SA            Flat              NaN         2   \n",
       "1187  6854613   HA7 3BT  End of Terrace              NaN         3   \n",
       "1297  4849811   HA7 3NE      Maisonette              NaN         1   \n",
       "1502  4810072   HA2 6DH            Flat              NaN         2   \n",
       "\n",
       "                   brma_text     price  \n",
       "973   North West London BRMA    1650.0  \n",
       "1050  North West London BRMA  475000.0  \n",
       "1187  North West London BRMA    2550.0  \n",
       "1297  North West London BRMA  295000.0  \n",
       "1502  North West London BRMA  425000.0  "
      ]
     },
     "execution_count": 107,
     "metadata": {},
     "output_type": "execute_result"
    }
   ],
   "source": [
    "rent_data[rent_data['transaction_type'].isnull()]"
   ]
  },
  {
   "cell_type": "markdown",
   "id": "7a2d9885",
   "metadata": {},
   "source": [
    "#### Handling Missing Transaction Types and Prices"
   ]
  },
  {
   "cell_type": "markdown",
   "id": "9ef95ed7",
   "metadata": {},
   "source": [
    "The minimum value of 'Price' in the 'transaction_type' for 'buy' DataFrame is 99500, it means that there are no prices in the buy DataFrame that are below 99950. Therefore, all transactions which have 'price' more than 99500 should be classified as 'buy' and all transactions which have 'price' less than 99500 should be classified as 'rent'."
   ]
  },
  {
   "cell_type": "code",
   "execution_count": 108,
   "id": "87932e17",
   "metadata": {
    "scrolled": false
   },
   "outputs": [
    {
     "name": "stderr",
     "output_type": "stream",
     "text": [
      "C:\\Users\\NITESH\\AppData\\Local\\Temp\\ipykernel_18756\\3028266605.py:2: SettingWithCopyWarning: \n",
      "A value is trying to be set on a copy of a slice from a DataFrame\n",
      "\n",
      "See the caveats in the documentation: https://pandas.pydata.org/pandas-docs/stable/user_guide/indexing.html#returning-a-view-versus-a-copy\n",
      "  rent['transaction_type'].fillna('rent',inplace=True)\n"
     ]
    }
   ],
   "source": [
    "rent = rent_df[rent_df['price'] < 99950]\n",
    "rent['transaction_type'].fillna('rent',inplace=True)"
   ]
  },
  {
   "cell_type": "code",
   "execution_count": 109,
   "id": "b85457c6",
   "metadata": {
    "scrolled": true
   },
   "outputs": [
    {
     "name": "stderr",
     "output_type": "stream",
     "text": [
      "C:\\Users\\NITESH\\AppData\\Local\\Temp\\ipykernel_18756\\3239663107.py:2: SettingWithCopyWarning: \n",
      "A value is trying to be set on a copy of a slice from a DataFrame\n",
      "\n",
      "See the caveats in the documentation: https://pandas.pydata.org/pandas-docs/stable/user_guide/indexing.html#returning-a-view-versus-a-copy\n",
      "  buy['transaction_type'].fillna('rent',inplace=True)\n"
     ]
    }
   ],
   "source": [
    "buy = rent_data[rent_data['price']>=99950]\n",
    "buy['transaction_type'].fillna('rent',inplace=True)"
   ]
  },
  {
   "cell_type": "markdown",
   "id": "92078912",
   "metadata": {},
   "source": [
    "####  Filling Missing BRMA Values"
   ]
  },
  {
   "cell_type": "code",
   "execution_count": 110,
   "id": "8301b753",
   "metadata": {
    "scrolled": false
   },
   "outputs": [
    {
     "name": "stderr",
     "output_type": "stream",
     "text": [
      "C:\\Users\\NITESH\\AppData\\Local\\Temp\\ipykernel_18756\\384560902.py:1: SettingWithCopyWarning: \n",
      "A value is trying to be set on a copy of a slice from a DataFrame\n",
      "\n",
      "See the caveats in the documentation: https://pandas.pydata.org/pandas-docs/stable/user_guide/indexing.html#returning-a-view-versus-a-copy\n",
      "  rent['brma_text'].fillna('North West London BRMA',inplace=True) #his fills any missing values in the brma_text column with 'North West London BRMA'\n"
     ]
    },
    {
     "data": {
      "text/html": [
       "<div>\n",
       "<style scoped>\n",
       "    .dataframe tbody tr th:only-of-type {\n",
       "        vertical-align: middle;\n",
       "    }\n",
       "\n",
       "    .dataframe tbody tr th {\n",
       "        vertical-align: top;\n",
       "    }\n",
       "\n",
       "    .dataframe thead th {\n",
       "        text-align: right;\n",
       "    }\n",
       "</style>\n",
       "<table border=\"1\" class=\"dataframe\">\n",
       "  <thead>\n",
       "    <tr style=\"text-align: right;\">\n",
       "      <th></th>\n",
       "      <th>id</th>\n",
       "      <th>post_code</th>\n",
       "      <th>type</th>\n",
       "      <th>transaction_type</th>\n",
       "      <th>bedrooms</th>\n",
       "      <th>brma_text</th>\n",
       "      <th>price</th>\n",
       "    </tr>\n",
       "  </thead>\n",
       "  <tbody>\n",
       "    <tr>\n",
       "      <th>1</th>\n",
       "      <td>7239659</td>\n",
       "      <td>HA2 8FL</td>\n",
       "      <td>Flat</td>\n",
       "      <td>rent</td>\n",
       "      <td>1</td>\n",
       "      <td>North West London BRMA</td>\n",
       "      <td>1700.0</td>\n",
       "    </tr>\n",
       "    <tr>\n",
       "      <th>2</th>\n",
       "      <td>7253315</td>\n",
       "      <td>HA1 3RA</td>\n",
       "      <td>Flat</td>\n",
       "      <td>rent</td>\n",
       "      <td>1</td>\n",
       "      <td>North West London BRMA</td>\n",
       "      <td>1400.0</td>\n",
       "    </tr>\n",
       "    <tr>\n",
       "      <th>3</th>\n",
       "      <td>7253316</td>\n",
       "      <td>HA1 1EH</td>\n",
       "      <td>Apartment</td>\n",
       "      <td>rent</td>\n",
       "      <td>1</td>\n",
       "      <td>North West London BRMA</td>\n",
       "      <td>1680.0</td>\n",
       "    </tr>\n",
       "    <tr>\n",
       "      <th>4</th>\n",
       "      <td>7253317</td>\n",
       "      <td>HA1 3NT</td>\n",
       "      <td>Flat</td>\n",
       "      <td>rent</td>\n",
       "      <td>2</td>\n",
       "      <td>North West London BRMA</td>\n",
       "      <td>1800.0</td>\n",
       "    </tr>\n",
       "    <tr>\n",
       "      <th>5</th>\n",
       "      <td>7253318</td>\n",
       "      <td>HA1 3DF</td>\n",
       "      <td>House</td>\n",
       "      <td>rent</td>\n",
       "      <td>2</td>\n",
       "      <td>North West London BRMA</td>\n",
       "      <td>1600.0</td>\n",
       "    </tr>\n",
       "    <tr>\n",
       "      <th>...</th>\n",
       "      <td>...</td>\n",
       "      <td>...</td>\n",
       "      <td>...</td>\n",
       "      <td>...</td>\n",
       "      <td>...</td>\n",
       "      <td>...</td>\n",
       "      <td>...</td>\n",
       "    </tr>\n",
       "    <tr>\n",
       "      <th>1446</th>\n",
       "      <td>6968914</td>\n",
       "      <td>HA1 3PY</td>\n",
       "      <td>Maisonette</td>\n",
       "      <td>rent</td>\n",
       "      <td>2</td>\n",
       "      <td>North West London BRMA</td>\n",
       "      <td>1850.0</td>\n",
       "    </tr>\n",
       "    <tr>\n",
       "      <th>1447</th>\n",
       "      <td>6096185</td>\n",
       "      <td>HA1 2XE</td>\n",
       "      <td>Flat</td>\n",
       "      <td>rent</td>\n",
       "      <td>2</td>\n",
       "      <td>North West London BRMA</td>\n",
       "      <td>2100.0</td>\n",
       "    </tr>\n",
       "    <tr>\n",
       "      <th>1452</th>\n",
       "      <td>7236638</td>\n",
       "      <td>HA5 3RJ</td>\n",
       "      <td>Ground Flat</td>\n",
       "      <td>rent</td>\n",
       "      <td>1</td>\n",
       "      <td>North West London BRMA</td>\n",
       "      <td>1650.0</td>\n",
       "    </tr>\n",
       "    <tr>\n",
       "      <th>1469</th>\n",
       "      <td>5856190</td>\n",
       "      <td>HA2 7JW</td>\n",
       "      <td>Apartment</td>\n",
       "      <td>rent</td>\n",
       "      <td>1</td>\n",
       "      <td>North West London BRMA</td>\n",
       "      <td>1425.0</td>\n",
       "    </tr>\n",
       "    <tr>\n",
       "      <th>1495</th>\n",
       "      <td>5208141</td>\n",
       "      <td>HA7 1GD</td>\n",
       "      <td>Flat</td>\n",
       "      <td>rent</td>\n",
       "      <td>2</td>\n",
       "      <td>North West London BRMA</td>\n",
       "      <td>2050.0</td>\n",
       "    </tr>\n",
       "  </tbody>\n",
       "</table>\n",
       "<p>363 rows × 7 columns</p>\n",
       "</div>"
      ],
      "text/plain": [
       "           id post_code         type transaction_type  bedrooms  \\\n",
       "1     7239659   HA2 8FL         Flat             rent         1   \n",
       "2     7253315   HA1 3RA         Flat             rent         1   \n",
       "3     7253316   HA1 1EH    Apartment             rent         1   \n",
       "4     7253317   HA1 3NT         Flat             rent         2   \n",
       "5     7253318   HA1 3DF        House             rent         2   \n",
       "...       ...       ...          ...              ...       ...   \n",
       "1446  6968914   HA1 3PY   Maisonette             rent         2   \n",
       "1447  6096185   HA1 2XE         Flat             rent         2   \n",
       "1452  7236638   HA5 3RJ  Ground Flat             rent         1   \n",
       "1469  5856190   HA2 7JW    Apartment             rent         1   \n",
       "1495  5208141   HA7 1GD         Flat             rent         2   \n",
       "\n",
       "                   brma_text   price  \n",
       "1     North West London BRMA  1700.0  \n",
       "2     North West London BRMA  1400.0  \n",
       "3     North West London BRMA  1680.0  \n",
       "4     North West London BRMA  1800.0  \n",
       "5     North West London BRMA  1600.0  \n",
       "...                      ...     ...  \n",
       "1446  North West London BRMA  1850.0  \n",
       "1447  North West London BRMA  2100.0  \n",
       "1452  North West London BRMA  1650.0  \n",
       "1469  North West London BRMA  1425.0  \n",
       "1495  North West London BRMA  2050.0  \n",
       "\n",
       "[363 rows x 7 columns]"
      ]
     },
     "execution_count": 110,
     "metadata": {},
     "output_type": "execute_result"
    }
   ],
   "source": [
    "rent['brma_text'].fillna('North West London BRMA',inplace=True) #his fills any missing values in the brma_text column with 'North West London BRMA'\n",
    "rent"
   ]
  },
  {
   "cell_type": "markdown",
   "id": "795b9362",
   "metadata": {},
   "source": [
    "####  Box Plot for Rent Prices by Number of Bedrooms"
   ]
  },
  {
   "cell_type": "markdown",
   "id": "c76776b7",
   "metadata": {},
   "source": [
    "Plotting the box plot to see any outliers in the data"
   ]
  },
  {
   "cell_type": "code",
   "execution_count": 111,
   "id": "efb76cb3",
   "metadata": {
    "scrolled": true
   },
   "outputs": [
    {
     "data": {
      "image/png": "[encoded data removed]",
      "text/plain": [
       "<Figure size 800x500 with 1 Axes>"
      ]
     },
     "metadata": {},
     "output_type": "display_data"
    }
   ],
   "source": [
    "plt.figure(figsize=(8, 5))\n",
    "sns.boxplot(x='bedrooms', y='price', data=rent_data)\n",
    "plt.title('Box Plot of Rent Prices by Number of Bedrooms')\n",
    "plt.yticks([1000,2000,3000,4000,5000,6000,7000,8000,9000,10000])\n",
    "plt.show()"
   ]
  },
  {
   "cell_type": "markdown",
   "id": "f05d039c",
   "metadata": {},
   "source": [
    "We can see a oulier in the data having price more than the normal prices"
   ]
  },
  {
   "cell_type": "markdown",
   "id": "4d2df985",
   "metadata": {},
   "source": [
    "#### Replacing Outliers in Price Data\n",
    "Replacing outlier and invalid values with the mean of the 'price' in 'rent' transaction_type"
   ]
  },
  {
   "cell_type": "code",
   "execution_count": 112,
   "id": "8b8260ac",
   "metadata": {
    "scrolled": true
   },
   "outputs": [
    {
     "name": "stderr",
     "output_type": "stream",
     "text": [
      "C:\\Users\\NITESH\\AppData\\Local\\Temp\\ipykernel_18756\\1479994236.py:1: SettingWithCopyWarning: \n",
      "A value is trying to be set on a copy of a slice from a DataFrame\n",
      "\n",
      "See the caveats in the documentation: https://pandas.pydata.org/pandas-docs/stable/user_guide/indexing.html#returning-a-view-versus-a-copy\n",
      "  rent['price'].replace([np.nan,999999999.0,0.0], rent['price'].mean(), inplace=True)\n"
     ]
    }
   ],
   "source": [
    "rent['price'].replace([np.nan,999999999.0,0.0], rent['price'].mean(), inplace=True) "
   ]
  },
  {
   "cell_type": "code",
   "execution_count": 113,
   "id": "c2ba5baf",
   "metadata": {},
   "outputs": [
    {
     "data": {
      "text/plain": [
       "id                  0\n",
       "post_code           0\n",
       "type                0\n",
       "transaction_type    0\n",
       "bedrooms            0\n",
       "brma_text           0\n",
       "price               0\n",
       "dtype: int64"
      ]
     },
     "execution_count": 113,
     "metadata": {},
     "output_type": "execute_result"
    }
   ],
   "source": [
    "rent.isna().sum()"
   ]
  },
  {
   "cell_type": "code",
   "execution_count": 114,
   "id": "93a98432",
   "metadata": {},
   "outputs": [
    {
     "data": {
      "text/plain": [
       "id                   0\n",
       "post_code            0\n",
       "type                 0\n",
       "transaction_type     5\n",
       "bedrooms             0\n",
       "brma_text           11\n",
       "price                4\n",
       "dtype: int64"
      ]
     },
     "execution_count": 114,
     "metadata": {},
     "output_type": "execute_result"
    }
   ],
   "source": [
    "rent_data.isna().sum()"
   ]
  },
  {
   "cell_type": "code",
   "execution_count": 115,
   "id": "44b27252",
   "metadata": {
    "scrolled": true
   },
   "outputs": [
    {
     "data": {
      "text/plain": [
       "369"
      ]
     },
     "execution_count": 115,
     "metadata": {},
     "output_type": "execute_result"
    }
   ],
   "source": [
    "len(rent_df)"
   ]
  },
  {
   "cell_type": "markdown",
   "id": "67e5f20d",
   "metadata": {},
   "source": [
    "##### Merging rent and buy DataFrames"
   ]
  },
  {
   "cell_type": "code",
   "execution_count": 116,
   "id": "5ed8f5fa",
   "metadata": {},
   "outputs": [
    {
     "data": {
      "text/html": [
       "<div>\n",
       "<style scoped>\n",
       "    .dataframe tbody tr th:only-of-type {\n",
       "        vertical-align: middle;\n",
       "    }\n",
       "\n",
       "    .dataframe tbody tr th {\n",
       "        vertical-align: top;\n",
       "    }\n",
       "\n",
       "    .dataframe thead th {\n",
       "        text-align: right;\n",
       "    }\n",
       "</style>\n",
       "<table border=\"1\" class=\"dataframe\">\n",
       "  <thead>\n",
       "    <tr style=\"text-align: right;\">\n",
       "      <th></th>\n",
       "      <th>id</th>\n",
       "      <th>post_code</th>\n",
       "      <th>type</th>\n",
       "      <th>transaction_type</th>\n",
       "      <th>bedrooms</th>\n",
       "      <th>brma_text</th>\n",
       "      <th>price</th>\n",
       "    </tr>\n",
       "  </thead>\n",
       "  <tbody>\n",
       "    <tr>\n",
       "      <th>1</th>\n",
       "      <td>7239659</td>\n",
       "      <td>HA2 8FL</td>\n",
       "      <td>Flat</td>\n",
       "      <td>rent</td>\n",
       "      <td>1</td>\n",
       "      <td>North West London BRMA</td>\n",
       "      <td>1700.0</td>\n",
       "    </tr>\n",
       "    <tr>\n",
       "      <th>2</th>\n",
       "      <td>7253315</td>\n",
       "      <td>HA1 3RA</td>\n",
       "      <td>Flat</td>\n",
       "      <td>rent</td>\n",
       "      <td>1</td>\n",
       "      <td>North West London BRMA</td>\n",
       "      <td>1400.0</td>\n",
       "    </tr>\n",
       "    <tr>\n",
       "      <th>3</th>\n",
       "      <td>7253316</td>\n",
       "      <td>HA1 1EH</td>\n",
       "      <td>Apartment</td>\n",
       "      <td>rent</td>\n",
       "      <td>1</td>\n",
       "      <td>North West London BRMA</td>\n",
       "      <td>1680.0</td>\n",
       "    </tr>\n",
       "    <tr>\n",
       "      <th>4</th>\n",
       "      <td>7253317</td>\n",
       "      <td>HA1 3NT</td>\n",
       "      <td>Flat</td>\n",
       "      <td>rent</td>\n",
       "      <td>2</td>\n",
       "      <td>North West London BRMA</td>\n",
       "      <td>1800.0</td>\n",
       "    </tr>\n",
       "    <tr>\n",
       "      <th>5</th>\n",
       "      <td>7253318</td>\n",
       "      <td>HA1 3DF</td>\n",
       "      <td>House</td>\n",
       "      <td>rent</td>\n",
       "      <td>2</td>\n",
       "      <td>North West London BRMA</td>\n",
       "      <td>1600.0</td>\n",
       "    </tr>\n",
       "    <tr>\n",
       "      <th>...</th>\n",
       "      <td>...</td>\n",
       "      <td>...</td>\n",
       "      <td>...</td>\n",
       "      <td>...</td>\n",
       "      <td>...</td>\n",
       "      <td>...</td>\n",
       "      <td>...</td>\n",
       "    </tr>\n",
       "    <tr>\n",
       "      <th>1500</th>\n",
       "      <td>4474794</td>\n",
       "      <td>HA1 3RG</td>\n",
       "      <td>Semi-Detached</td>\n",
       "      <td>buy</td>\n",
       "      <td>4</td>\n",
       "      <td>North West London BRMA</td>\n",
       "      <td>875000.0</td>\n",
       "    </tr>\n",
       "    <tr>\n",
       "      <th>1501</th>\n",
       "      <td>4726367</td>\n",
       "      <td>HA1 3RR</td>\n",
       "      <td>Flat</td>\n",
       "      <td>buy</td>\n",
       "      <td>1</td>\n",
       "      <td>North West London BRMA</td>\n",
       "      <td>125000.0</td>\n",
       "    </tr>\n",
       "    <tr>\n",
       "      <th>1502</th>\n",
       "      <td>4810072</td>\n",
       "      <td>HA2 6DH</td>\n",
       "      <td>Flat</td>\n",
       "      <td>rent</td>\n",
       "      <td>2</td>\n",
       "      <td>North West London BRMA</td>\n",
       "      <td>425000.0</td>\n",
       "    </tr>\n",
       "    <tr>\n",
       "      <th>1503</th>\n",
       "      <td>5798080</td>\n",
       "      <td>HA3 5DL</td>\n",
       "      <td>Apartment</td>\n",
       "      <td>buy</td>\n",
       "      <td>3</td>\n",
       "      <td>North West London BRMA</td>\n",
       "      <td>480000.0</td>\n",
       "    </tr>\n",
       "    <tr>\n",
       "      <th>1504</th>\n",
       "      <td>3789728</td>\n",
       "      <td>HA1 2AW</td>\n",
       "      <td>Flat</td>\n",
       "      <td>buy</td>\n",
       "      <td>2</td>\n",
       "      <td>North West London BRMA</td>\n",
       "      <td>450000.0</td>\n",
       "    </tr>\n",
       "  </tbody>\n",
       "</table>\n",
       "<p>1498 rows × 7 columns</p>\n",
       "</div>"
      ],
      "text/plain": [
       "           id post_code           type transaction_type  bedrooms  \\\n",
       "1     7239659   HA2 8FL           Flat             rent         1   \n",
       "2     7253315   HA1 3RA           Flat             rent         1   \n",
       "3     7253316   HA1 1EH      Apartment             rent         1   \n",
       "4     7253317   HA1 3NT           Flat             rent         2   \n",
       "5     7253318   HA1 3DF          House             rent         2   \n",
       "...       ...       ...            ...              ...       ...   \n",
       "1500  4474794   HA1 3RG  Semi-Detached              buy         4   \n",
       "1501  4726367   HA1 3RR           Flat              buy         1   \n",
       "1502  4810072   HA2 6DH           Flat             rent         2   \n",
       "1503  5798080   HA3 5DL      Apartment              buy         3   \n",
       "1504  3789728   HA1 2AW           Flat              buy         2   \n",
       "\n",
       "                   brma_text     price  \n",
       "1     North West London BRMA    1700.0  \n",
       "2     North West London BRMA    1400.0  \n",
       "3     North West London BRMA    1680.0  \n",
       "4     North West London BRMA    1800.0  \n",
       "5     North West London BRMA    1600.0  \n",
       "...                      ...       ...  \n",
       "1500  North West London BRMA  875000.0  \n",
       "1501  North West London BRMA  125000.0  \n",
       "1502  North West London BRMA  425000.0  \n",
       "1503  North West London BRMA  480000.0  \n",
       "1504  North West London BRMA  450000.0  \n",
       "\n",
       "[1498 rows x 7 columns]"
      ]
     },
     "execution_count": 116,
     "metadata": {},
     "output_type": "execute_result"
    }
   ],
   "source": [
    "rent_data = pd.concat([rent,buy])\n",
    "rent_data.isna().sum()\n",
    "rent_data"
   ]
  },
  {
   "cell_type": "markdown",
   "id": "4111302e",
   "metadata": {},
   "source": [
    "## Data Analysis"
   ]
  },
  {
   "cell_type": "markdown",
   "id": "cd768398",
   "metadata": {},
   "source": [
    "#### Calculation of average market rent for each bed type"
   ]
  },
  {
   "cell_type": "code",
   "execution_count": 117,
   "id": "727e2206",
   "metadata": {},
   "outputs": [],
   "source": [
    "average_market_rent = rent.groupby('bedrooms')['price'].mean().reset_index()"
   ]
  },
  {
   "cell_type": "markdown",
   "id": "e51b2abc",
   "metadata": {},
   "source": [
    "Rename the columns for better clarity"
   ]
  },
  {
   "cell_type": "code",
   "execution_count": 118,
   "id": "ff88d24c",
   "metadata": {},
   "outputs": [],
   "source": [
    "average_market_rent.columns = ['bedrooms', 'avg_market_rent']"
   ]
  },
  {
   "cell_type": "markdown",
   "id": "73a7bb69",
   "metadata": {},
   "source": [
    "Filter the DataFrame to include only properties with 1 to 4 bedrooms."
   ]
  },
  {
   "cell_type": "code",
   "execution_count": 119,
   "id": "08bcd35e",
   "metadata": {},
   "outputs": [],
   "source": [
    "average_market_rent = average_market_rent[average_market_rent['bedrooms'].isin([1,2,3,4])]"
   ]
  },
  {
   "cell_type": "code",
   "execution_count": 120,
   "id": "e09b6c04",
   "metadata": {
    "scrolled": false
   },
   "outputs": [
    {
     "data": {
      "text/html": [
       "<div>\n",
       "<style scoped>\n",
       "    .dataframe tbody tr th:only-of-type {\n",
       "        vertical-align: middle;\n",
       "    }\n",
       "\n",
       "    .dataframe tbody tr th {\n",
       "        vertical-align: top;\n",
       "    }\n",
       "\n",
       "    .dataframe thead th {\n",
       "        text-align: right;\n",
       "    }\n",
       "</style>\n",
       "<table border=\"1\" class=\"dataframe\">\n",
       "  <thead>\n",
       "    <tr style=\"text-align: right;\">\n",
       "      <th></th>\n",
       "      <th>bedrooms</th>\n",
       "      <th>avg_market_rent</th>\n",
       "    </tr>\n",
       "  </thead>\n",
       "  <tbody>\n",
       "    <tr>\n",
       "      <th>1</th>\n",
       "      <td>1</td>\n",
       "      <td>1530.644737</td>\n",
       "    </tr>\n",
       "    <tr>\n",
       "      <th>2</th>\n",
       "      <td>2</td>\n",
       "      <td>1906.535211</td>\n",
       "    </tr>\n",
       "    <tr>\n",
       "      <th>3</th>\n",
       "      <td>3</td>\n",
       "      <td>2575.255556</td>\n",
       "    </tr>\n",
       "    <tr>\n",
       "      <th>4</th>\n",
       "      <td>4</td>\n",
       "      <td>3408.428571</td>\n",
       "    </tr>\n",
       "  </tbody>\n",
       "</table>\n",
       "</div>"
      ],
      "text/plain": [
       "   bedrooms  avg_market_rent\n",
       "1         1      1530.644737\n",
       "2         2      1906.535211\n",
       "3         3      2575.255556\n",
       "4         4      3408.428571"
      ]
     },
     "execution_count": 120,
     "metadata": {},
     "output_type": "execute_result"
    }
   ],
   "source": [
    "average_market_rent"
   ]
  },
  {
   "cell_type": "markdown",
   "id": "34972a38",
   "metadata": {},
   "source": [
    "#### Dropping Empty Columns in LHA Data"
   ]
  },
  {
   "cell_type": "code",
   "execution_count": 121,
   "id": "f9de1c96",
   "metadata": {
    "scrolled": true
   },
   "outputs": [
    {
     "data": {
      "text/html": [
       "<div>\n",
       "<style scoped>\n",
       "    .dataframe tbody tr th:only-of-type {\n",
       "        vertical-align: middle;\n",
       "    }\n",
       "\n",
       "    .dataframe tbody tr th {\n",
       "        vertical-align: top;\n",
       "    }\n",
       "\n",
       "    .dataframe thead th {\n",
       "        text-align: right;\n",
       "    }\n",
       "</style>\n",
       "<table border=\"1\" class=\"dataframe\">\n",
       "  <thead>\n",
       "    <tr style=\"text-align: right;\">\n",
       "      <th></th>\n",
       "      <th>BRMA</th>\n",
       "      <th>CAT A</th>\n",
       "      <th>CAT B</th>\n",
       "      <th>CAT C</th>\n",
       "      <th>CAT D</th>\n",
       "      <th>CAT E</th>\n",
       "    </tr>\n",
       "  </thead>\n",
       "  <tbody>\n",
       "    <tr>\n",
       "      <th>0</th>\n",
       "      <td>Ashford</td>\n",
       "      <td>90.50</td>\n",
       "      <td>172.60</td>\n",
       "      <td>195.62</td>\n",
       "      <td>252.64</td>\n",
       "      <td>331.40</td>\n",
       "    </tr>\n",
       "    <tr>\n",
       "      <th>1</th>\n",
       "      <td>Aylesbury</td>\n",
       "      <td>101.87</td>\n",
       "      <td>184.11</td>\n",
       "      <td>228.99</td>\n",
       "      <td>306.08</td>\n",
       "      <td>379.73</td>\n",
       "    </tr>\n",
       "    <tr>\n",
       "      <th>2</th>\n",
       "      <td>Barnsley</td>\n",
       "      <td>72.80</td>\n",
       "      <td>95.51</td>\n",
       "      <td>103.56</td>\n",
       "      <td>126.58</td>\n",
       "      <td>178.36</td>\n",
       "    </tr>\n",
       "    <tr>\n",
       "      <th>3</th>\n",
       "      <td>Barrow-in-Furness</td>\n",
       "      <td>91.00</td>\n",
       "      <td>109.32</td>\n",
       "      <td>115.07</td>\n",
       "      <td>146.14</td>\n",
       "      <td>185.84</td>\n",
       "    </tr>\n",
       "    <tr>\n",
       "      <th>4</th>\n",
       "      <td>Basingstoke</td>\n",
       "      <td>93.51</td>\n",
       "      <td>179.51</td>\n",
       "      <td>218.63</td>\n",
       "      <td>264.66</td>\n",
       "      <td>322.19</td>\n",
       "    </tr>\n",
       "    <tr>\n",
       "      <th>...</th>\n",
       "      <td>...</td>\n",
       "      <td>...</td>\n",
       "      <td>...</td>\n",
       "      <td>...</td>\n",
       "      <td>...</td>\n",
       "      <td>...</td>\n",
       "    </tr>\n",
       "    <tr>\n",
       "      <th>147</th>\n",
       "      <td>Worcester North</td>\n",
       "      <td>75.91</td>\n",
       "      <td>118.52</td>\n",
       "      <td>149.59</td>\n",
       "      <td>172.60</td>\n",
       "      <td>228.99</td>\n",
       "    </tr>\n",
       "    <tr>\n",
       "      <th>148</th>\n",
       "      <td>Worcester South</td>\n",
       "      <td>88.05</td>\n",
       "      <td>130.95</td>\n",
       "      <td>161.10</td>\n",
       "      <td>189.86</td>\n",
       "      <td>264.66</td>\n",
       "    </tr>\n",
       "    <tr>\n",
       "      <th>149</th>\n",
       "      <td>Worthing</td>\n",
       "      <td>102.41</td>\n",
       "      <td>174.90</td>\n",
       "      <td>218.63</td>\n",
       "      <td>271.56</td>\n",
       "      <td>337.15</td>\n",
       "    </tr>\n",
       "    <tr>\n",
       "      <th>150</th>\n",
       "      <td>Yeovil</td>\n",
       "      <td>100.11</td>\n",
       "      <td>120.82</td>\n",
       "      <td>159.95</td>\n",
       "      <td>195.62</td>\n",
       "      <td>287.67</td>\n",
       "    </tr>\n",
       "    <tr>\n",
       "      <th>151</th>\n",
       "      <td>York</td>\n",
       "      <td>96.12</td>\n",
       "      <td>155.34</td>\n",
       "      <td>178.36</td>\n",
       "      <td>189.86</td>\n",
       "      <td>276.16</td>\n",
       "    </tr>\n",
       "  </tbody>\n",
       "</table>\n",
       "<p>152 rows × 6 columns</p>\n",
       "</div>"
      ],
      "text/plain": [
       "                  BRMA   CAT A   CAT B   CAT C   CAT D   CAT E\n",
       "0              Ashford   90.50  172.60  195.62  252.64  331.40\n",
       "1            Aylesbury  101.87  184.11  228.99  306.08  379.73\n",
       "2             Barnsley   72.80   95.51  103.56  126.58  178.36\n",
       "3    Barrow-in-Furness   91.00  109.32  115.07  146.14  185.84\n",
       "4          Basingstoke   93.51  179.51  218.63  264.66  322.19\n",
       "..                 ...     ...     ...     ...     ...     ...\n",
       "147    Worcester North   75.91  118.52  149.59  172.60  228.99\n",
       "148    Worcester South   88.05  130.95  161.10  189.86  264.66\n",
       "149           Worthing  102.41  174.90  218.63  271.56  337.15\n",
       "150             Yeovil  100.11  120.82  159.95  195.62  287.67\n",
       "151               York   96.12  155.34  178.36  189.86  276.16\n",
       "\n",
       "[152 rows x 6 columns]"
      ]
     },
     "execution_count": 121,
     "metadata": {},
     "output_type": "execute_result"
    }
   ],
   "source": [
    "lha_data = lha_data.dropna(how='all', axis='columns')\n",
    "lha_data"
   ]
  },
  {
   "cell_type": "markdown",
   "id": "fdfe5594",
   "metadata": {},
   "source": [
    "#### Renaming LHA Columns"
   ]
  },
  {
   "cell_type": "code",
   "execution_count": 122,
   "id": "97c88a7d",
   "metadata": {},
   "outputs": [],
   "source": [
    "lha_data.rename(columns={'CAT A': '1_bed_shared','CAT B': '1_bed','CAT C': '2_beds','CAT D': '3_beds','CAT E': '4_beds'}, inplace=True)"
   ]
  },
  {
   "cell_type": "markdown",
   "id": "573ebad9",
   "metadata": {},
   "source": [
    "#### Average lha for each bed type"
   ]
  },
  {
   "cell_type": "code",
   "execution_count": 123,
   "id": "c55e2575",
   "metadata": {},
   "outputs": [
    {
     "data": {
      "text/plain": [
       "1_bed_shared     96.819737\n",
       "1_bed           149.927105\n",
       "2_beds          184.399539\n",
       "3_beds          222.885592\n",
       "4_beds          294.812697\n",
       "dtype: float64"
      ]
     },
     "execution_count": 123,
     "metadata": {},
     "output_type": "execute_result"
    }
   ],
   "source": [
    "lha_data[['1_bed_shared','1_bed','2_beds','3_beds','4_beds']].mean()"
   ]
  },
  {
   "cell_type": "markdown",
   "id": "688db677",
   "metadata": {},
   "source": [
    "#### Extracting LHA Data for North West London"
   ]
  },
  {
   "cell_type": "code",
   "execution_count": 124,
   "id": "7a0d3dd9",
   "metadata": {
    "scrolled": true
   },
   "outputs": [
    {
     "data": {
      "text/html": [
       "<div>\n",
       "<style scoped>\n",
       "    .dataframe tbody tr th:only-of-type {\n",
       "        vertical-align: middle;\n",
       "    }\n",
       "\n",
       "    .dataframe tbody tr th {\n",
       "        vertical-align: top;\n",
       "    }\n",
       "\n",
       "    .dataframe thead th {\n",
       "        text-align: right;\n",
       "    }\n",
       "</style>\n",
       "<table border=\"1\" class=\"dataframe\">\n",
       "  <thead>\n",
       "    <tr style=\"text-align: right;\">\n",
       "      <th></th>\n",
       "      <th>BRMA</th>\n",
       "      <th>1_bed_shared</th>\n",
       "      <th>1_bed</th>\n",
       "      <th>2_beds</th>\n",
       "      <th>3_beds</th>\n",
       "      <th>4_beds</th>\n",
       "    </tr>\n",
       "  </thead>\n",
       "  <tbody>\n",
       "    <tr>\n",
       "      <th>87</th>\n",
       "      <td>North West London</td>\n",
       "      <td>142.99</td>\n",
       "      <td>253.15</td>\n",
       "      <td>310.68</td>\n",
       "      <td>386.63</td>\n",
       "      <td>483.29</td>\n",
       "    </tr>\n",
       "  </tbody>\n",
       "</table>\n",
       "</div>"
      ],
      "text/plain": [
       "                 BRMA  1_bed_shared   1_bed  2_beds  3_beds  4_beds\n",
       "87  North West London        142.99  253.15  310.68  386.63  483.29"
      ]
     },
     "execution_count": 124,
     "metadata": {},
     "output_type": "execute_result"
    }
   ],
   "source": [
    "north_west_london_data = lha_data[lha_data['BRMA'] == 'North West London']\n",
    "north_west_london_data"
   ]
  },
  {
   "cell_type": "markdown",
   "id": "576a4c25",
   "metadata": {},
   "source": [
    "#### Creating a DataFrame for LHA Rent\n",
    "\n",
    "Creating a DataFrame to store average LHA rents for different bedroom types in North West London.\n",
    "\n",
    "For 1-bedroom property i took the average of the '1_bed_shared' and '1_bed' column from \"north_west_london_data\""
   ]
  },
  {
   "cell_type": "code",
   "execution_count": 125,
   "id": "d42071bb",
   "metadata": {},
   "outputs": [],
   "source": [
    "north_west_london_rent = pd.DataFrame({\n",
    "    'bedrooms': [1, 2, 3, 4],\n",
    "    'avg_lha_rent': [\n",
    "        (north_west_london_data['1_bed_shared'].values[0] + north_west_london_data['1_bed'].values[0]) / 2,\n",
    "        north_west_london_data['2_beds'].values[0],\n",
    "        north_west_london_data['3_beds'].values[0],\n",
    "        north_west_london_data['4_beds'].values[0]\n",
    "    ]\n",
    "})"
   ]
  },
  {
   "cell_type": "markdown",
   "id": "6f478e41",
   "metadata": {},
   "source": [
    "#### Merging Market Rent with LHA Rent"
   ]
  },
  {
   "cell_type": "code",
   "execution_count": 126,
   "id": "edc014b7",
   "metadata": {},
   "outputs": [],
   "source": [
    "rent_comparison = pd.merge(average_market_rent, north_west_london_rent , on='bedrooms', how='inner')"
   ]
  },
  {
   "cell_type": "markdown",
   "id": "90b0a45c",
   "metadata": {},
   "source": [
    "#### Calculating Average Market Rent per Bedroom and Percentage Increase over LHA Rent"
   ]
  },
  {
   "cell_type": "code",
   "execution_count": 127,
   "id": "8080af37",
   "metadata": {
    "scrolled": true
   },
   "outputs": [
    {
     "data": {
      "text/html": [
       "<div>\n",
       "<style scoped>\n",
       "    .dataframe tbody tr th:only-of-type {\n",
       "        vertical-align: middle;\n",
       "    }\n",
       "\n",
       "    .dataframe tbody tr th {\n",
       "        vertical-align: top;\n",
       "    }\n",
       "\n",
       "    .dataframe thead th {\n",
       "        text-align: right;\n",
       "    }\n",
       "</style>\n",
       "<table border=\"1\" class=\"dataframe\">\n",
       "  <thead>\n",
       "    <tr style=\"text-align: right;\">\n",
       "      <th></th>\n",
       "      <th>bedrooms</th>\n",
       "      <th>avg_market_rent</th>\n",
       "      <th>avg_lha_rent</th>\n",
       "      <th>avg_by_bed</th>\n",
       "      <th>percentage_inrcrease</th>\n",
       "    </tr>\n",
       "  </thead>\n",
       "  <tbody>\n",
       "    <tr>\n",
       "      <th>0</th>\n",
       "      <td>1</td>\n",
       "      <td>1531.0</td>\n",
       "      <td>198.0</td>\n",
       "      <td>1531.0</td>\n",
       "      <td>773.0</td>\n",
       "    </tr>\n",
       "    <tr>\n",
       "      <th>1</th>\n",
       "      <td>2</td>\n",
       "      <td>1907.0</td>\n",
       "      <td>311.0</td>\n",
       "      <td>953.0</td>\n",
       "      <td>614.0</td>\n",
       "    </tr>\n",
       "    <tr>\n",
       "      <th>2</th>\n",
       "      <td>3</td>\n",
       "      <td>2575.0</td>\n",
       "      <td>387.0</td>\n",
       "      <td>858.0</td>\n",
       "      <td>666.0</td>\n",
       "    </tr>\n",
       "    <tr>\n",
       "      <th>3</th>\n",
       "      <td>4</td>\n",
       "      <td>3408.0</td>\n",
       "      <td>483.0</td>\n",
       "      <td>852.0</td>\n",
       "      <td>705.0</td>\n",
       "    </tr>\n",
       "  </tbody>\n",
       "</table>\n",
       "</div>"
      ],
      "text/plain": [
       "   bedrooms  avg_market_rent  avg_lha_rent  avg_by_bed  percentage_inrcrease\n",
       "0         1           1531.0         198.0      1531.0                 773.0\n",
       "1         2           1907.0         311.0       953.0                 614.0\n",
       "2         3           2575.0         387.0       858.0                 666.0\n",
       "3         4           3408.0         483.0       852.0                 705.0"
      ]
     },
     "execution_count": 127,
     "metadata": {},
     "output_type": "execute_result"
    }
   ],
   "source": [
    "rent_comparison['avg_by_bed'] = rent_comparison['avg_market_rent']/rent_comparison['bedrooms']\n",
    "rent_comparison['percentage_inrcrease'] = rent_comparison['avg_market_rent']*100/rent_comparison['avg_lha_rent']\n",
    "rent_comparison.round(0)"
   ]
  },
  {
   "cell_type": "markdown",
   "id": "1e2122c9",
   "metadata": {},
   "source": [
    "### Bar Plot for Market Rent vs LHA Rent"
   ]
  },
  {
   "cell_type": "code",
   "execution_count": 128,
   "id": "ea8b15f1",
   "metadata": {
    "scrolled": true
   },
   "outputs": [
    {
     "data": {
      "image/png": "[encoded data removed]",
      "text/plain": [
       "<Figure size 1800x1200 with 1 Axes>"
      ]
     },
     "metadata": {},
     "output_type": "display_data"
    }
   ],
   "source": [
    "plt.figure(figsize=(9,6),dpi=200)\n",
    "\n",
    "index = rent_comparison['bedrooms']\n",
    "\n",
    "# Create bars for market rent and LHA rent\n",
    "plt.bar(index-bar_width, rent_comparison['avg_market_rent'],width = 0.25, label='Market Rent', color='blue',align = \"edge\")\n",
    "plt.bar(index, rent_comparison['avg_lha_rent'],width = 0.25, label='LHA Rent', color='green',align = \"edge\")\n",
    "plt.xlabel('Number of Bedrooms')\n",
    "plt.ylabel('Average Rent')\n",
    "plt.title('Market Rent vs LHA Rent by Number of Bedrooms')\n",
    "plt.yticks([400,800,1200,1600,2000,2400,2800,3200,3600,4000,4400,4800]) \n",
    "plt.xticks([1,2,3,4]) \n",
    "plt.legend()\n",
    "plt.show()"
   ]
  },
  {
   "cell_type": "markdown",
   "id": "cff5f815",
   "metadata": {},
   "source": [
    "### Scatter Plot for Average Market Rent"
   ]
  },
  {
   "cell_type": "code",
   "execution_count": 129,
   "id": "e37fb391",
   "metadata": {},
   "outputs": [
    {
     "data": {
      "image/png": "[encoded data removed]",
      "text/plain": [
       "<Figure size 800x600 with 1 Axes>"
      ]
     },
     "metadata": {},
     "output_type": "display_data"
    }
   ],
   "source": [
    "plt.figure(figsize=(8, 6))\n",
    "plt.scatter( average_market_rent['avg_market_rent'],average_market_rent['bedrooms'], color='blue', marker='.')\n",
    "plt.plot( average_market_rent['avg_market_rent'],average_market_rent['bedrooms'], color='green', linestyle='-', label='Rent Trend')\n",
    "plt.ylabel('Number of Bedrooms')\n",
    "plt.xlabel('Average Market Rent')\n",
    "plt.title('Scatter Plot of Average Market Rent by Number of Bedrooms')\n",
    "plt.yticks([1,2,3,4,5])\n",
    "plt.legend()\n",
    "plt.show()"
   ]
  },
  {
   "cell_type": "markdown",
   "id": "7f5c37ae",
   "metadata": {},
   "source": [
    "### Scatter Plot of Average Market Rent per Bedroom by Number of Bedrooms"
   ]
  },
  {
   "cell_type": "code",
   "execution_count": 130,
   "id": "73cdf5dd",
   "metadata": {},
   "outputs": [
    {
     "data": {
      "text/plain": [
       "<matplotlib.legend.Legend at 0x25da6fd65f0>"
      ]
     },
     "execution_count": 130,
     "metadata": {},
     "output_type": "execute_result"
    },
    {
     "data": {
      "image/png": "[encoded data removed]",
      "text/plain": [
       "<Figure size 800x600 with 1 Axes>"
      ]
     },
     "metadata": {},
     "output_type": "display_data"
    }
   ],
   "source": [
    "plt.figure(figsize=(8, 6))\n",
    "plt.scatter( rent_comparison['bedrooms'],rent_comparison['avg_by_bed'], color='blue', marker='.')\n",
    "plt.plot( rent_comparison['bedrooms'],rent_comparison['avg_by_bed'], color='green', linestyle='-', label='Rent Trend')\n",
    "plt.ylabel('Number of Bedrooms')\n",
    "plt.xlabel('Average Market Rent per Bedroom')\n",
    "plt.title('Scatter Plot of Average Market Rent per Bedroom by Number of Bedrooms')\n",
    "plt.xticks([1,2,3,4])\n",
    "plt.legend()"
   ]
  },
  {
   "cell_type": "markdown",
   "id": "f7ab2bea",
   "metadata": {},
   "source": [
    "## Key Insights"
   ]
  },
  {
   "cell_type": "markdown",
   "id": "e2264535",
   "metadata": {},
   "source": [
    "1. As the number of bedrooms increases, the average market rent rises.This shows a clear trend where larger properties commands higher rent.\n",
    "\n",
    "2. While LHA rent does increase with more bedrooms, the growth is not as good as market rent.This Suggest a gap between government supported housing assistant and actual market rent rates.\n",
    "\n",
    "3. The difference between market rent and LHA rent becomes more as the number of bedrooms increases.This shows that it's more difficult for people to afford larger properties using LHA alone.\n",
    "\n",
    "4. Households with larger families requiring more bedrooms may face affordability challenges as lha does not fully covereed the increasing rent cost.\n",
    "\n",
    "5. For a 1-bedroom property LHA cover about 13% of the average market rent it increases for 2-bedroom property to 16% but it starts to drop again for 3 and 4 bedroom properties to 15% and 14% respectively.\n",
    "\n",
    "6. The jump from 1-bedroom to 2-bedroom property is significant but the jump from 3-bedroom to 4-bedroom property is much higher indicating that properties with more bedroom demand much higher rent.\n",
    "\n"
   ]
  },
  {
   "cell_type": "markdown",
   "id": "a915ce2c",
   "metadata": {},
   "source": [
    "##  Summary of observed Trends"
   ]
  },
  {
   "cell_type": "markdown",
   "id": "efd1d898",
   "metadata": {},
   "source": [
    "1. Larger properties have lower rent per bedroom\n",
    "2. The gap between market trend and LHA remains large.\n",
    "3. Affordability issues are consistant."
   ]
  }
 ],
 "metadata": {
  "kernelspec": {
   "display_name": "Python 3 (ipykernel)",
   "language": "python",
   "name": "python3"
  },
  "language_info": {
   "codemirror_mode": {
    "name": "ipython",
    "version": 3
   },
   "file_extension": ".py",
   "mimetype": "text/x-python",
   "name": "python",
   "nbconvert_exporter": "python",
   "pygments_lexer": "ipython3",
   "version": "3.10.9"
  }
 },
 "nbformat": 4,
 "nbformat_minor": 5
}
